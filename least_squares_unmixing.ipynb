{
 "cells": [
  {
   "cell_type": "markdown",
   "metadata": {},
   "source": [
    "# Linear Spectral Unmixing with Least Squares"
   ]
  },
  {
   "cell_type": "markdown",
   "metadata": {},
   "source": [
    "### Problem Statement\n",
    "\n",
    "In the case of spectral data, for a given pixel we suppose to have a set of intensity measurements at different wavelengths, e.g., $I = [I(\\lambda_1),I(\\lambda_2),\\dots,I(\\lambda_n)]$, with $n=32$ for instance. For each one of these spectral bands $\\lambda_i$, with $i=1,\\dots,n$, and for each fluorophore $f$, with $f=1,\\dots,m$, we assume to know the reference spectra $R_f=[R_f(\\lambda_1), R_f(\\lambda_2), \\dots, R_f(\\lambda_n)]$. Therefore, $I $ is a column vector of size $n$ and $R_f$ are columns of a matrix $\\mathbf{R}$ of size $m\\times n$. In this context, we define the concentration of the different fluorophores in the sample as a row vector $C = [C_1, C_2, \\dots, C_m]$ of size $m$. Therefore, the problem of linear unmixing reads as follows: <br><br>\n",
    "\n",
    "\\begin{equation}\n",
    "I = C\\mathbf{R}\n",
    "\\end{equation}\n",
    "\n",
    "or, by specifying the vectors and matrix:\n",
    "\n",
    "\\begin{align}\n",
    "    \\begin{bmatrix}\n",
    "        I(\\lambda_1) \\\\\n",
    "        I(\\lambda_2) \\\\\n",
    "        \\vdots \\\\\n",
    "        I(\\lambda_n)\n",
    "    \\end{bmatrix}\n",
    "        = \n",
    "    \\begin{bmatrix}\n",
    "        C_{1} & C_{2} & \\dots & C_{m}\n",
    "    \\end{bmatrix}\n",
    "    \\begin{bmatrix}\n",
    "        R_{1}(\\lambda_1) & R_{1}(\\lambda_2) & \\dots & R_{1}(\\lambda_n) \\\\\n",
    "        R_{2}(\\lambda_1) & R_{2}(\\lambda_2) & \\dots & R_{2}(\\lambda_n) \\\\\n",
    "        \\vdots & \\vdots & \\ddots & \\vdots \\\\\n",
    "        R_{m}(\\lambda_1) & R_{m}(\\lambda_2) & \\dots & R_{m}(\\lambda_n) \\\\\n",
    "    \\end{bmatrix}\n",
    "\\end{align}"
   ]
  },
  {
   "cell_type": "markdown",
   "metadata": {},
   "source": [
    "### Least Square Estimation\n",
    "\n",
    "Least Squares is a method that allows to solve the system. It works as follows:\n",
    "\n",
    "**Goal:** to compute $C$ such that it minimizes the objective $J(C)=||I - C\\mathbf{R}||^2$.\n",
    "\n",
    "**How:** by setting the derivative of $J(C)$ w.r.t. $C$ to $0$. Namely:\n",
    "\\begin{align}\n",
    "\\frac{\\partial{J(C)}}{\\partial{C}}=-2(I-C\\mathbf{R})\\mathbf{R}^T=0 \\Longrightarrow C\\mathbf{R}\\mathbf{R}^T=I\\mathbf{R}^T \\Longrightarrow C=I\\mathbf{R}^T(\\mathbf{R}\\mathbf{R}^T)^{-1} \n",
    "\\end{align}"
   ]
  },
  {
   "cell_type": "markdown",
   "metadata": {},
   "source": [
    "**NOTES**\n",
    "\n",
    "- Notice that in the context of a spectral image we need to repeat this procedure for every pixel.\n",
    "- $I(\\lambda_i)$'s are the intensity values for a given pixel in the mixed image at wavelength $\\lambda_i$.\n",
    "- $R_f(\\lambda_i)$'s are the intensity values in the reference spectrum of fluorophore $f$ at wavelength $\\lambda_i$.\n",
    "- For the moment we work with MIP and not with the whole 3D volumes. "
   ]
  },
  {
   "cell_type": "markdown",
   "metadata": {},
   "source": [
    "#### 1. Data Preparation"
   ]
  },
  {
   "cell_type": "markdown",
   "metadata": {},
   "source": [
    "Load mixed image & metadata:"
   ]
  },
  {
   "cell_type": "code",
   "execution_count": null,
   "metadata": {},
   "outputs": [],
   "source": [
    "import os\n",
    "import json\n",
    "import tifffile as tiff\n",
    "\n",
    "DATA_DIR = '/Volumes/jug/federico/microsim/sim_spectral_data/240708'\n",
    "load_mip = False\n",
    "\n",
    "mixed_opt_img = tiff.imread(\n",
    "    os.path.join(\n",
    "        DATA_DIR, \n",
    "        f\"{\"mips\" if load_mip else \"imgs\"}/optical_mixed{\"_mip\" if load_mip else \"\"}.tif\"\n",
    "    )\n",
    ")\n",
    "print(\"Loaded optical mixed image!\")\n",
    "\n",
    "mixed_digital_img = tiff.imread(\n",
    "    os.path.join(\n",
    "        DATA_DIR, \n",
    "        f\"{\"mips\" if load_mip else \"imgs\"}/digital_mixed{\"_mip\" if load_mip else \"\"}.tif\"\n",
    "    )\n",
    ")\n",
    "print(\"Loaded digital mixed image!\")\n",
    "\n",
    "with open(os.path.join(DATA_DIR, \"sim_coords.json\"), \"r\") as f:\n",
    "    coords_metadata = json.load(f)"
   ]
  },
  {
   "cell_type": "code",
   "execution_count": null,
   "metadata": {},
   "outputs": [],
   "source": [
    "mixed_opt_img.shape, mixed_digital_img.shape, coords_metadata.keys()"
   ]
  },
  {
   "cell_type": "markdown",
   "metadata": {},
   "source": [
    "Get reference spectra from `FPBase` using `microsim` API:"
   ]
  },
  {
   "cell_type": "code",
   "execution_count": null,
   "metadata": {},
   "outputs": [],
   "source": [
    "from microsim.schema.sample import Fluorophore\n",
    "\n",
    "fp1 = Fluorophore.from_fpbase(name=\"mTurquoise\")\n",
    "fp2 = Fluorophore.from_fpbase(name=\"EYFP\")\n",
    "fp3 = Fluorophore.from_fpbase(name=\"mScarlet\")"
   ]
  },
  {
   "cell_type": "code",
   "execution_count": null,
   "metadata": {},
   "outputs": [],
   "source": [
    "import xarray as xr\n",
    "\n",
    "fp1_em = xr.DataArray(fp1.emission_spectrum.intensity, coords=[fp1.emission_spectrum.wavelength.magnitude], dims=[\"w\"])\n",
    "fp2_em = xr.DataArray(fp2.emission_spectrum.intensity, coords=[fp2.emission_spectrum.wavelength.magnitude], dims=[\"w\"])\n",
    "fp3_em = xr.DataArray(fp3.emission_spectrum.intensity, coords=[fp3.emission_spectrum.wavelength.magnitude], dims=[\"w\"])"
   ]
  },
  {
   "cell_type": "code",
   "execution_count": null,
   "metadata": {},
   "outputs": [],
   "source": [
    "# Bin the emission spectra to the same wavelength range as the data\n",
    "em_bins = coords_metadata[\"w_bins\"]\n",
    "sbins = sorted(set([bins[0] for bins in em_bins] + [em_bins[-1][1]]))\n",
    "\n",
    "fp1_em_binned = fp1_em.groupby_bins(fp1_em[\"w\"], sbins).sum()\n",
    "fp2_em_binned = fp2_em.groupby_bins(fp2_em[\"w\"], sbins).sum()\n",
    "fp3_em_binned = fp3_em.groupby_bins(fp3_em[\"w\"], sbins).sum()"
   ]
  },
  {
   "cell_type": "code",
   "execution_count": null,
   "metadata": {},
   "outputs": [],
   "source": [
    "# Replace nan values with 0\n",
    "fp1_em_binned = fp1_em_binned.fillna(0)\n",
    "fp2_em_binned = fp2_em_binned.fillna(0)\n",
    "fp3_em_binned = fp3_em_binned.fillna(0)"
   ]
  },
  {
   "cell_type": "markdown",
   "metadata": {},
   "source": [
    "**OBSERVATION**\n",
    "The mixed image is a 16bit image (range: 0-6.5e4), whereas the intensity of fluorophores emission spectra ranges in 0-1 before the binning.\n",
    "\n",
    "Intuitively, intensity ranges should be the same. However does this really matter?\n",
    "\n",
    "In my understanding, the answer is NO. Let's see why:\n",
    "\n",
    "- Suppose the case of 0-1 range normalization. In that case, normalization is obtained by simply dividing each pixel's intensity by the maximum intensity in the image. In other terms we basically divide by a scalar. Therefore, supposing that we normalize in this way both the mixed image and the reference spectra, the linear system becomes:\n",
    "\n",
    "\\begin{equation}\n",
    "\\frac{1}{k_I}I = \\frac{1}{k_R}C\\mathbf{R}\n",
    "\\end{equation}\n",
    "\n",
    "where $k_I$ and $k_R$ are scalar. Therefore the solution of this system is the same up to some multiplicative constants.\n",
    "\n",
    "Therefore, we can normalize everything in the range 0-1 so that quantities are in the same scale."
   ]
  },
  {
   "cell_type": "code",
   "execution_count": null,
   "metadata": {},
   "outputs": [],
   "source": [
    "mixed_opt_img = (mixed_opt_img - mixed_opt_img.min()) / (mixed_opt_img.max() - mixed_opt_img.min())\n",
    "fp1_em_binned = (fp1_em_binned - fp1_em_binned.min()) / (fp1_em_binned.max()- fp1_em_binned.min())\n",
    "fp2_em_binned = (fp2_em_binned - fp2_em_binned.min()) / (fp2_em_binned.max()- fp2_em_binned.min())\n",
    "fp3_em_binned = (fp3_em_binned - fp3_em_binned.min()) / (fp3_em_binned.max()- fp3_em_binned.min())"
   ]
  },
  {
   "cell_type": "markdown",
   "metadata": {},
   "source": [
    "Prepare the matrix R of reference fluorophore intensities:"
   ]
  },
  {
   "cell_type": "code",
   "execution_count": null,
   "metadata": {},
   "outputs": [],
   "source": [
    "import numpy as np\n",
    "\n",
    "fp_ref_matrix = np.stack([fp1_em_binned.values, fp2_em_binned.values, fp3_em_binned.values], axis=0)"
   ]
  },
  {
   "cell_type": "markdown",
   "metadata": {},
   "source": [
    "#### 2. Compute the LS solution"
   ]
  },
  {
   "cell_type": "code",
   "execution_count": null,
   "metadata": {},
   "outputs": [],
   "source": [
    "from scipy.linalg import lstsq\n",
    "from tqdm import tqdm \n",
    "\n",
    "def lstsq_fit_2D(mixed_img, fp_ref_matrix):\n",
    "    _, n_rows, n_cols = mixed_img.shape\n",
    "    n_fps = fp_ref_matrix.shape[0]\n",
    "\n",
    "    fp_conc_img = np.zeros((n_fps, n_rows, n_cols))\n",
    "\n",
    "    for r in range(n_rows):\n",
    "        for c in range(n_cols):\n",
    "            mixed_pixel = mixed_img[:, r, c]\n",
    "            fp_conc, residuals, rank, sing_vals = lstsq(fp_ref_matrix.T, mixed_pixel)\n",
    "            fp_conc_img[:, r, c] = fp_conc\n",
    "\n",
    "    return fp_conc_img\n",
    "\n",
    "def lstsq_fit_3D(mixed_img, fp_ref_matrix):\n",
    "    _, nz, ny, nx = mixed_img.shape\n",
    "    n_fps = fp_ref_matrix.shape[0]\n",
    "\n",
    "    fp_conc_img = np.zeros((n_fps, nz, ny, nx))\n",
    "\n",
    "    for z in tqdm(range(nz), desc=\"Solving LS on z slice\"):\n",
    "        for y in range(ny):\n",
    "            for x in range(nx):\n",
    "                mixed_voxel = mixed_img[:, z, y, x]\n",
    "                fp_conc, residuals, rank, sing_vals = lstsq(fp_ref_matrix.T, mixed_voxel)\n",
    "                fp_conc_img[:, z, y, x] = fp_conc\n",
    "\n",
    "    return fp_conc_img"
   ]
  },
  {
   "cell_type": "markdown",
   "metadata": {},
   "source": [
    "Solving for Optical Image:"
   ]
  },
  {
   "cell_type": "code",
   "execution_count": null,
   "metadata": {},
   "outputs": [],
   "source": [
    "fp_conc_opt_img = None\n",
    "if len(mixed_opt_img.shape) == 4:\n",
    "    fp_conc_opt_img = lstsq_fit_3D(mixed_opt_img, fp_ref_matrix)\n",
    "elif len(mixed_opt_img.shape) == 3:\n",
    "    fp_conc_opt_img = lstsq_fit_2D(mixed_opt_img, fp_ref_matrix)\n",
    "else:\n",
    "    raise ValueError(f\"Invalid image shape {mixed_opt_img.shape}\")"
   ]
  },
  {
   "cell_type": "markdown",
   "metadata": {},
   "source": [
    "Solving for Digital Image:"
   ]
  },
  {
   "cell_type": "code",
   "execution_count": null,
   "metadata": {},
   "outputs": [],
   "source": [
    "fp_conc_digital_img = None\n",
    "if len(mixed_digital_img.shape) == 4:\n",
    "    fp_conc_digital_img = lstsq_fit_3D(mixed_digital_img, fp_ref_matrix)\n",
    "elif len(mixed_digital_img.shape) == 3:\n",
    "    fp_conc_digital_img = lstsq_fit_2D(mixed_digital_img, fp_ref_matrix)\n",
    "else:\n",
    "    raise ValueError(f\"Invalid image shape {mixed_digital_img.shape}\")"
   ]
  },
  {
   "cell_type": "markdown",
   "metadata": {},
   "source": [
    "### Visualizing results"
   ]
  },
  {
   "cell_type": "code",
   "execution_count": null,
   "metadata": {},
   "outputs": [],
   "source": [
    "import matplotlib.pyplot as plt\n",
    "\n",
    "fig, ax = plt.subplots(1, 3, figsize=(15, 5))\n",
    "fig.suptitle(\"MIP of FP concentrations computed from Optical (clean) image\", fontsize=16)\n",
    "if load_mip:\n",
    "    ax[0].imshow(fp_conc_opt_img[0, :, :])\n",
    "    ax[1].imshow(fp_conc_opt_img[1, :, :])\n",
    "    ax[2].imshow(fp_conc_opt_img[2, :, :])\n",
    "else:\n",
    "    ax[0].imshow(fp_conc_opt_img.max(axis=1)[0, :, :])\n",
    "    ax[1].imshow(fp_conc_opt_img.max(axis=1)[1, :, :])\n",
    "    ax[2].imshow(fp_conc_opt_img.max(axis=1)[2, :, :])\n",
    "\n",
    "\n",
    "fig, ax = plt.subplots(1, 3, figsize=(15, 5))\n",
    "fig.suptitle(\"MIP of FP concentrations computed from Digital (noisy) image\", fontsize=16)\n",
    "if load_mip:\n",
    "    ax[0].imshow(fp_conc_digital_img[0, :, :])\n",
    "    ax[1].imshow(fp_conc_digital_img[1, :, :])\n",
    "    ax[2].imshow(fp_conc_digital_img[2, :, :])\n",
    "else:\n",
    "    ax[0].imshow(fp_conc_digital_img.max(axis=1)[0, :, :])\n",
    "    ax[1].imshow(fp_conc_digital_img.max(axis=1)[1, :, :])\n",
    "    ax[2].imshow(fp_conc_digital_img.max(axis=1)[2, :, :])"
   ]
  },
  {
   "cell_type": "markdown",
   "metadata": {},
   "source": [
    "Compute error with respect to ground truth"
   ]
  },
  {
   "cell_type": "code",
   "execution_count": null,
   "metadata": {},
   "outputs": [],
   "source": [
    "# Load GT\n",
    "gt_img = tiff.imread(os.path.join(DATA_DIR, \"ground_truth_img.tif\"))"
   ]
  },
  {
   "cell_type": "code",
   "execution_count": null,
   "metadata": {},
   "outputs": [],
   "source": [
    "# Downscale GT to match the size of digital image\n",
    "import xarray as xr \n",
    "\n",
    "def coarsen_img(\n",
    "    img: np.ndarray, \n",
    "    downscaling_factor: int\n",
    ") -> np.ndarray:\n",
    "    \n",
    "    assert isinstance(downscaling_factor, int), \"Downscaling factor must be a single int!\"\n",
    "    \n",
    "    if len(img.shape) == 4:\n",
    "        dimnames = [\"c\", \"z\", \"y\", \"x\"]\n",
    "    elif len(img.shape) == 3:\n",
    "        dimnames = [\"c\", \"y\", \"x\"]\n",
    "    \n",
    "    img_array = xr.DataArray(img, dims=dimnames)\n",
    "    coarsened_dims = {dim: downscaling_factor for dim in img_array.dims[1:]}\n",
    "    return img_array.coarsen(coarsened_dims).sum().data\n",
    "    "
   ]
  },
  {
   "cell_type": "code",
   "execution_count": null,
   "metadata": {},
   "outputs": [],
   "source": [
    "downscaling = 2\n",
    "gt_img_downsc = coarsen_img(gt_img, downscaling)"
   ]
  },
  {
   "cell_type": "code",
   "execution_count": null,
   "metadata": {},
   "outputs": [],
   "source": [
    "fig, ax = plt.subplots(1, 3, figsize=(15, 5))\n",
    "fig.suptitle(\"MIP of Ground Truth FP distribution (original)\", fontsize=16)\n",
    "ax[0].imshow(gt_img.max(axis=1)[0, :, :])\n",
    "ax[1].imshow(gt_img.max(axis=1)[1, :, :])\n",
    "ax[2].imshow(gt_img.max(axis=1)[2, :, :])\n",
    "\n",
    "\n",
    "fig, ax = plt.subplots(1, 3, figsize=(15, 5))\n",
    "fig.suptitle(\"MIP of Ground Truth FP distribution (downscaled)\", fontsize=16)\n",
    "ax[0].imshow(gt_img_downsc.max(axis=1)[0, :, :])\n",
    "ax[1].imshow(gt_img_downsc.max(axis=1)[1, :, :])\n",
    "ax[2].imshow(gt_img_downsc.max(axis=1)[2, :, :])"
   ]
  },
  {
   "cell_type": "markdown",
   "metadata": {},
   "source": [
    "Compare fluorophore distribution in the GT and concentration distribution obtained as solution of Linear System"
   ]
  },
  {
   "cell_type": "code",
   "execution_count": null,
   "metadata": {},
   "outputs": [],
   "source": [
    "# Fluorophore distribution in GT\n",
    "_, ax = plt.subplots(1, 3, figsize=(15, 5))\n",
    "ax[0].hist(gt_img[0, ...][gt_img[0, ...] > 5].flatten(), bins=30, color=\"blue\")\n",
    "ax[1].hist(gt_img[1, ...][gt_img[1, ...] > 5].flatten(), bins=30, color=\"green\")\n",
    "ax[2].hist(gt_img[2, ...][gt_img[2, ...] > 5].flatten(), bins=30, color=\"red\")\n",
    "# Put same limits for all histograms\n",
    "ax[0].set_xlim([0, 150])\n",
    "ax[1].set_xlim([0, 150])\n",
    "ax[2].set_xlim([0, 150])\n",
    "ax[0].set_ylim([0, 1.25e6])\n",
    "ax[1].set_ylim([0, 1.25e6])\n",
    "ax[2].set_ylim([0, 1.25e6])\n",
    "\n",
    "# FP concentration distribution in unmixed images\n",
    "_, ax = plt.subplots(1, 3, figsize=(15, 5))\n",
    "ax[0].hist(fp_conc_opt_img[0, ...].flatten(), bins=30, color=\"blue\")\n",
    "ax[1].hist(fp_conc_opt_img[1, ...].flatten(), bins=30, color=\"green\")\n",
    "ax[2].hist(fp_conc_opt_img[2, ...].flatten(), bins=30, color=\"red\")\n",
    "# Put same limits for all histograms\n",
    "ax[0].set_xlim([-.05, .8])\n",
    "ax[1].set_xlim([-.05, .8])\n",
    "ax[2].set_xlim([-.05, .8])\n",
    "ax[0].set_ylim([0, 1.1e7])\n",
    "ax[1].set_ylim([0, 1.1e7])\n",
    "ax[2].set_ylim([0, 1.1e7])"
   ]
  },
  {
   "cell_type": "markdown",
   "metadata": {},
   "source": [
    "Let's normalize both vectors to 1 separately for each fluorophore"
   ]
  },
  {
   "cell_type": "code",
   "execution_count": null,
   "metadata": {},
   "outputs": [],
   "source": [
    "def channel_wise_normalization(img):\n",
    "    ndims = tuple(range(len(img.shape)))\n",
    "    channel_min = img.min(axis=ndims[1:], keepdims=True) \n",
    "    channel_max = img.max(axis=ndims[1:], keepdims=True)\n",
    "    return (img - channel_min) / (channel_max - channel_min)"
   ]
  },
  {
   "cell_type": "code",
   "execution_count": null,
   "metadata": {},
   "outputs": [],
   "source": [
    "norm_fp_conc_opt_img = channel_wise_normalization(fp_conc_opt_img)\n",
    "norm_fp_conc_digital_img = channel_wise_normalization(fp_conc_digital_img)\n",
    "norm_gt_img = channel_wise_normalization(gt_img)\n",
    "norm_gt_img_downsc = channel_wise_normalization(gt_img_downsc)"
   ]
  },
  {
   "cell_type": "code",
   "execution_count": null,
   "metadata": {},
   "outputs": [],
   "source": [
    "# Fluorophore distribution in GT\n",
    "_, ax = plt.subplots(1, 3, figsize=(15, 5))\n",
    "ax[0].hist(norm_gt_img[0, ...].flatten(), bins=30, color=\"blue\")\n",
    "ax[1].hist(norm_gt_img[1, ...].flatten(), bins=30, color=\"green\")\n",
    "ax[2].hist(norm_gt_img[2, ...].flatten(), bins=30, color=\"red\")\n",
    "# Put same limits for all histograms\n",
    "# ax[0].set_xlim([0, 150])\n",
    "# ax[1].set_xlim([0, 150])\n",
    "# ax[2].set_xlim([0, 150])\n",
    "# ax[0].set_ylim([0, 1.25e6])\n",
    "# ax[1].set_ylim([0, 1.25e6])\n",
    "# ax[2].set_ylim([0, 1.25e6])\n",
    "\n",
    "# FP concentration distribution in unmixed images\n",
    "_, ax = plt.subplots(1, 3, figsize=(15, 5))\n",
    "ax[0].hist(norm_fp_conc_opt_img[0, ...].flatten(), bins=30, color=\"blue\")\n",
    "ax[1].hist(norm_fp_conc_opt_img[1, ...].flatten(), bins=30, color=\"green\")\n",
    "ax[2].hist(norm_fp_conc_opt_img[2, ...].flatten(), bins=30, color=\"red\")\n",
    "# Put same limits for all histograms\n",
    "# ax[0].set_xlim([-.05, .8])\n",
    "# ax[1].set_xlim([-.05, .8])\n",
    "# ax[2].set_xlim([-.05, .8])\n",
    "# ax[0].set_ylim([0, 1.1e7])\n",
    "# ax[1].set_ylim([0, 1.1e7])\n",
    "# ax[2].set_ylim([0, 1.1e7])"
   ]
  },
  {
   "cell_type": "markdown",
   "metadata": {},
   "source": [
    "Distributions of FP concentrations in GT and unmixed images seems more similar.\n",
    "\n",
    "Now, we compute and visualize the error:"
   ]
  },
  {
   "cell_type": "code",
   "execution_count": null,
   "metadata": {},
   "outputs": [],
   "source": [
    "def pixel_wise_mse(gt_img, unmixed_img):\n",
    "    return (gt_img - unmixed_img)**2"
   ]
  },
  {
   "cell_type": "code",
   "execution_count": null,
   "metadata": {},
   "outputs": [],
   "source": [
    "from mpl_toolkits.axes_grid1 import make_axes_locatable\n",
    "\n",
    "fig, ax = plt.subplots(3, 3, figsize=(15, 15))\n",
    "# fig.suptitle(\"Ground Truth FP distribution vs. Unmixed FP Concentrations (normalize in 0-1)\", fontsize=16)\n",
    "\n",
    "mse1 = pixel_wise_mse(norm_gt_img[0, ...], norm_fp_conc_opt_img[0, ...])\n",
    "ax[0,0].set_title(\"GT (flurophore distribution)\")\n",
    "im0 = ax[0,0].imshow(norm_gt_img.max(axis=1)[0, :, :])\n",
    "ax[0,1].set_title(\"Unmixing Result (flurophore distribution)\")\n",
    "im1 = ax[0,1].imshow(norm_fp_conc_opt_img.max(axis=1)[0, :, :])\n",
    "ax[0,2].set_title(\"Pixel-wise MSE (flurophore distribution)\")\n",
    "im2 = ax[0,2].imshow(mse1.max(axis=0), cmap=\"RdPu\")\n",
    "divider = make_axes_locatable(ax[0,2])\n",
    "cax = divider.append_axes(\"right\", size=\"5%\", pad=0.05)\n",
    "fig.colorbar(im2, cax=cax)\n",
    "ax[0,2].text(\n",
    "    0.7, 0.1, f'MSE: {mse1.mean():.4f}', transform=ax[0,2].transAxes,\n",
    "    fontsize=12, verticalalignment='center', bbox=dict(facecolor='white', alpha=0.5)\n",
    ")\n",
    "\n",
    "mse2 = pixel_wise_mse(norm_gt_img[1, ...], norm_fp_conc_opt_img[1, ...])\n",
    "im3 = ax[1,0].imshow(norm_gt_img.max(axis=1)[1, :, :])\n",
    "im4 = ax[1,1].imshow(norm_fp_conc_opt_img.max(axis=1)[1, :, :])\n",
    "im5 = ax[1,2].imshow(mse2.max(axis=0), cmap=\"RdPu\")\n",
    "divider = make_axes_locatable(ax[1,2])\n",
    "cax = divider.append_axes(\"right\", size=\"5%\", pad=0.05)\n",
    "fig.colorbar(im5, cax=cax)\n",
    "ax[1,2].text(\n",
    "    0.7, 0.1, f'MSE: {mse2.mean():.4f}', transform=ax[1,2].transAxes,\n",
    "    fontsize=12, verticalalignment='center', bbox=dict(facecolor='white', alpha=0.5)\n",
    ")\n",
    "\n",
    "mse3 = pixel_wise_mse(norm_gt_img[2, ...], norm_fp_conc_opt_img[2, ...])\n",
    "im6 = ax[2,0].imshow(norm_gt_img.max(axis=1)[2, :, :])\n",
    "im7 = ax[2,1].imshow(norm_fp_conc_opt_img.max(axis=1)[2, :, :])\n",
    "im8 = ax[2,2].imshow(mse3.max(axis=0), cmap=\"RdPu\")\n",
    "divider = make_axes_locatable(ax[2,2])\n",
    "cax = divider.append_axes(\"right\", size=\"5%\", pad=0.05)\n",
    "fig.colorbar(im8, cax=cax)\n",
    "ax[2,2].text(\n",
    "    0.7, 0.1, f'MSE: {mse3.mean():.4f}', transform=ax[2,2].transAxes,\n",
    "    fontsize=12, verticalalignment='center', bbox=dict(facecolor='white', alpha=0.5)\n",
    ")\n",
    "\n",
    "plt.tight_layout()\n",
    "\n",
    "# Quantititive results\n",
    "print(f\"Optical Image MSE: {mse1.mean():.4f}, {mse2.mean():.4f}, {mse3.mean():.4f}\")"
   ]
  },
  {
   "cell_type": "code",
   "execution_count": null,
   "metadata": {},
   "outputs": [],
   "source": [
    "fig, ax = plt.subplots(3, 3, figsize=(15, 15))\n",
    "# fig.suptitle(\"Ground Truth FP distribution vs. Unmixed FP Concentrations (normalize in 0-1)\", fontsize=16)\n",
    "\n",
    "mse1 = pixel_wise_mse(norm_gt_img_downsc[0, ...], norm_fp_conc_digital_img[0, ...])\n",
    "ax[0,0].set_title(\"GT (flurophore distribution)\")\n",
    "im0 = ax[0,0].imshow(norm_gt_img_downsc.max(axis=1)[0, :, :])\n",
    "ax[0,1].set_title(\"Unmixing Result (flurophore distribution)\")\n",
    "im1 = ax[0,1].imshow(norm_fp_conc_digital_img.max(axis=1)[0, :, :])\n",
    "ax[0,2].set_title(\"Pixel-wise MSE (flurophore distribution)\")\n",
    "im2 = ax[0,2].imshow(mse1.max(axis=0), cmap=\"RdPu\")\n",
    "divider = make_axes_locatable(ax[0,2])\n",
    "cax = divider.append_axes(\"right\", size=\"5%\", pad=0.05)\n",
    "fig.colorbar(im2, cax=cax)\n",
    "ax[0,2].text(\n",
    "    0.7, 0.1, f'MSE: {mse1.mean():.4f}', transform=ax[0,2].transAxes,\n",
    "    fontsize=12, verticalalignment='center', bbox=dict(facecolor='white', alpha=0.5)\n",
    ")\n",
    "\n",
    "mse2 = pixel_wise_mse(norm_gt_img_downsc[1, ...], norm_fp_conc_digital_img[1, ...])\n",
    "im3 = ax[1,0].imshow(norm_gt_img_downsc.max(axis=1)[1, :, :])\n",
    "im4 = ax[1,1].imshow(norm_fp_conc_digital_img.max(axis=1)[1, :, :])\n",
    "im5 = ax[1,2].imshow(mse2.max(axis=0), cmap=\"RdPu\")\n",
    "divider = make_axes_locatable(ax[1,2])\n",
    "cax = divider.append_axes(\"right\", size=\"5%\", pad=0.05)\n",
    "fig.colorbar(im5, cax=cax)\n",
    "ax[1,2].text(\n",
    "    0.7, 0.1, f'MSE: {mse2.mean():.4f}', transform=ax[1,2].transAxes,\n",
    "    fontsize=12, verticalalignment='center', bbox=dict(facecolor='white', alpha=0.5)\n",
    ")\n",
    "\n",
    "mse3 = pixel_wise_mse(norm_gt_img_downsc[2, ...], norm_fp_conc_digital_img[2, ...])\n",
    "im6 = ax[2,0].imshow(norm_gt_img_downsc.max(axis=1)[2, :, :])\n",
    "im7 = ax[2,1].imshow(norm_fp_conc_digital_img.max(axis=1)[2, :, :])\n",
    "im8 = ax[2,2].imshow(mse3.max(axis=0), cmap=\"RdPu\")\n",
    "divider = make_axes_locatable(ax[2,2])\n",
    "cax = divider.append_axes(\"right\", size=\"5%\", pad=0.05)\n",
    "fig.colorbar(im8, cax=cax)\n",
    "ax[2,2].text(\n",
    "    0.7, 0.1, f'MSE: {mse3.mean():.4f}', transform=ax[2,2].transAxes,\n",
    "    fontsize=12, verticalalignment='center', bbox=dict(facecolor='white', alpha=0.5)\n",
    ")\n",
    "\n",
    "plt.tight_layout()\n",
    "\n",
    "# Quantititive results\n",
    "print(f\"Digital Image MSE: {mse1.mean():.4f}, {mse2.mean():.4f}, {mse3.mean():.4f}\")"
   ]
  }
 ],
 "metadata": {
  "kernelspec": {
   "display_name": "linear_unmix",
   "language": "python",
   "name": "python3"
  },
  "language_info": {
   "codemirror_mode": {
    "name": "ipython",
    "version": 3
   },
   "file_extension": ".py",
   "mimetype": "text/x-python",
   "name": "python",
   "nbconvert_exporter": "python",
   "pygments_lexer": "ipython3",
   "version": "3.12.4"
  }
 },
 "nbformat": 4,
 "nbformat_minor": 2
}
