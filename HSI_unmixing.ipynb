{
 "cells": [
  {
   "cell_type": "markdown",
   "metadata": {},
   "source": [
    "# Linear Unmixing of common HSI Data"
   ]
  },
  {
   "cell_type": "markdown",
   "metadata": {},
   "source": [
    "In this notebook we perform linear unmixing on hyperspectral data from public datasets.\n",
    "\n",
    "In this case, for a given pixel, we suppose to have a set of intensity measurements at different wavelengths, e.g., $y = [y(\\lambda_1),y(\\lambda_2),\\dots,y(\\lambda_n)]$, with $n=224$ for instance. For each one of these spectral bands $\\lambda_i$, with $i=1,\\dots,n$, and for each endmember $e$, with $e=1,\\dots,m$, we assume the reference spectra $R_e=[R_e(\\lambda_1), R_e(\\lambda_2), \\dots, R_e(\\lambda_n)]$ to be known."
   ]
  },
  {
   "cell_type": "markdown",
   "metadata": {},
   "source": [
    "### 1. Prepare Data"
   ]
  },
  {
   "cell_type": "code",
   "execution_count": null,
   "metadata": {},
   "outputs": [],
   "source": [
    "from data import HSIData\n",
    "\n",
    "hsi_data = HSIData(data_dir=\"/group/jug/federico/hsi_data_IEEE/datasets/Samson.mat\")\n",
    "print(hsi_data)"
   ]
  },
  {
   "cell_type": "code",
   "execution_count": null,
   "metadata": {},
   "outputs": [],
   "source": [
    "# Get endmembers matrix\n",
    "endmembers_matrix = hsi_data.E\n",
    "\n",
    "# Get ground truth abundance maps\n",
    "gt_img = hsi_data.render_unmixed()\n",
    "\n",
    "# Get mixed\n",
    "mixed_img = hsi_data.render_mixed()"
   ]
  },
  {
   "cell_type": "code",
   "execution_count": null,
   "metadata": {},
   "outputs": [],
   "source": [
    "endmembers_matrix.shape, gt_img.shape, mixed_img.shape"
   ]
  },
  {
   "cell_type": "markdown",
   "metadata": {},
   "source": [
    "### 2. Compute the LS solution"
   ]
  },
  {
   "cell_type": "code",
   "execution_count": null,
   "metadata": {},
   "outputs": [],
   "source": [
    "from methods.LeastSquares import lstsq_fit\n",
    "\n",
    "unmixed_img = lstsq_fit(mixed_img, endmembers_matrix)"
   ]
  },
  {
   "cell_type": "markdown",
   "metadata": {},
   "source": [
    "### 3. Evaluation"
   ]
  },
  {
   "cell_type": "markdown",
   "metadata": {},
   "source": [
    "Normalize GT and unmixing result:"
   ]
  },
  {
   "cell_type": "code",
   "execution_count": null,
   "metadata": {},
   "outputs": [],
   "source": [
    "from utils import channel_wise_norm\n",
    "\n",
    "norm_gt_img = channel_wise_norm(gt_img)\n",
    "norm_unmixed_img = channel_wise_norm(unmixed_img)"
   ]
  },
  {
   "cell_type": "markdown",
   "metadata": {},
   "source": [
    "Visualize results"
   ]
  },
  {
   "cell_type": "code",
   "execution_count": null,
   "metadata": {},
   "outputs": [],
   "source": [
    "from utils import plot_unmixed_vs_gt\n",
    "\n",
    "plot_unmixed_vs_gt(norm_gt_img, norm_unmixed_img)"
   ]
  },
  {
   "cell_type": "code",
   "execution_count": null,
   "metadata": {},
   "outputs": [],
   "source": []
  }
 ],
 "metadata": {
  "kernelspec": {
   "display_name": "linear_unmix",
   "language": "python",
   "name": "python3"
  },
  "language_info": {
   "codemirror_mode": {
    "name": "ipython",
    "version": 3
   },
   "file_extension": ".py",
   "mimetype": "text/x-python",
   "name": "python",
   "nbconvert_exporter": "python",
   "pygments_lexer": "ipython3",
   "version": "3.12.4"
  }
 },
 "nbformat": 4,
 "nbformat_minor": 2
}
