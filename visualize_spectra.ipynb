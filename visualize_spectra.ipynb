{
 "cells": [
  {
   "cell_type": "code",
   "execution_count": 2,
   "metadata": {},
   "outputs": [],
   "source": [
    "import os\n",
    "import tifffile as tiff\n",
    "import napari"
   ]
  },
  {
   "cell_type": "code",
   "execution_count": 3,
   "metadata": {},
   "outputs": [],
   "source": [
    "DATA_DIR = '/Volumes/jug/federico/microsim/sim_spectral_data/2407/mips'"
   ]
  },
  {
   "cell_type": "code",
   "execution_count": 4,
   "metadata": {},
   "outputs": [],
   "source": [
    "fluor1_em_mip = tiff.imread(os.path.join(DATA_DIR, \"emission_fluor1_mip.tif\"))\n",
    "fluor2_em_mip = tiff.imread(os.path.join(DATA_DIR, \"emission_fluor2_mip.tif\"))\n",
    "fluor3_em_mip = tiff.imread(os.path.join(DATA_DIR, \"emission_fluor3_mip.tif\"))\n",
    "mixed_em_mip = tiff.imread(os.path.join(DATA_DIR, \"emission_mixed_mip.tif\"))\n",
    "\n",
    "fluor1_opt_mip = tiff.imread(os.path.join(DATA_DIR, \"optical_fluor1_mip.tif\"))\n",
    "fluor2_opt_mip = tiff.imread(os.path.join(DATA_DIR, \"optical_fluor2_mip.tif\"))\n",
    "fluor3_opt_mip = tiff.imread(os.path.join(DATA_DIR, \"optical_fluor3_mip.tif\"))\n",
    "mixed_opt_mip = tiff.imread(os.path.join(DATA_DIR, \"optical_mixed_mip.tif\"))"
   ]
  },
  {
   "cell_type": "code",
   "execution_count": 7,
   "metadata": {},
   "outputs": [
    {
     "data": {
      "text/plain": [
       "<Image layer 'Mixed' at 0x17f772180>"
      ]
     },
     "execution_count": 7,
     "metadata": {},
     "output_type": "execute_result"
    }
   ],
   "source": [
    "viewer = napari.Viewer()\n",
    "viewer.add_image(fluor1_em_mip, name=\"Fluorophore 1\", colormap=\"blue\", blending=\"additive\",  contrast_limits=(0, 65535))\n",
    "viewer.add_image(fluor2_em_mip, name=\"Fluorophore 2\", colormap=\"yellow\", blending=\"additive\",  contrast_limits=(0, 65535))\n",
    "viewer.add_image(fluor3_em_mip, name=\"Fluorophore 3\", colormap=\"red\", blending=\"additive\",  contrast_limits=(0, 65535))\n",
    "viewer.add_image(mixed_em_mip, name=\"Mixed\", blending=\"additive\",  contrast_limits=(0, 65535))"
   ]
  },
  {
   "cell_type": "code",
   "execution_count": 6,
   "metadata": {},
   "outputs": [
    {
     "data": {
      "text/plain": [
       "<Image layer 'Mixed' at 0x17f67bf20>"
      ]
     },
     "execution_count": 6,
     "metadata": {},
     "output_type": "execute_result"
    }
   ],
   "source": [
    "viewer = napari.Viewer()\n",
    "viewer.add_image(fluor1_opt_mip, name=\"Fluorophore 1\", colormap=\"blue\", blending=\"additive\",  contrast_limits=(0, 65535))\n",
    "viewer.add_image(fluor2_opt_mip, name=\"Fluorophore 2\", colormap=\"yellow\", blending=\"additive\",  contrast_limits=(0, 65535))\n",
    "viewer.add_image(fluor3_opt_mip, name=\"Fluorophore 3\", colormap=\"red\", blending=\"additive\",  contrast_limits=(0, 65535))\n",
    "viewer.add_image(mixed_opt_mip, name=\"Mixed\", blending=\"additive\",  contrast_limits=(0, 65535))"
   ]
  }
 ],
 "metadata": {
  "kernelspec": {
   "display_name": "linear_unmix",
   "language": "python",
   "name": "python3"
  },
  "language_info": {
   "codemirror_mode": {
    "name": "ipython",
    "version": 3
   },
   "file_extension": ".py",
   "mimetype": "text/x-python",
   "name": "python",
   "nbconvert_exporter": "python",
   "pygments_lexer": "ipython3",
   "version": "3.12.4"
  }
 },
 "nbformat": 4,
 "nbformat_minor": 2
}
