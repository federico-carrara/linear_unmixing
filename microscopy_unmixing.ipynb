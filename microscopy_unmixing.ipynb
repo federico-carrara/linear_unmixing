{
 "cells": [
  {
   "cell_type": "markdown",
   "metadata": {},
   "source": [
    "# Linear Unmixing of Spectral Fluorescence Microscopy Data"
   ]
  },
  {
   "cell_type": "markdown",
   "metadata": {},
   "source": [
    "In this notebook we perform linear unmixing on spectral data from Fluorescence Microscopy.\n",
    "\n",
    "In this case, for a given pixel, we suppose to have a set of intensity measurements at different wavelengths, e.g., $y = [y(\\lambda_1),y(\\lambda_2),\\dots,y(\\lambda_n)]$, with $n=32$ for instance. For each one of these spectral bands $\\lambda_i$, with $i=1,\\dots,n$, and for each fluorophore $f$, with $f=1,\\dots,m$, we assume the reference spectra $R_f=[R_f(\\lambda_1), R_f(\\lambda_2), \\dots, R_f(\\lambda_n)]$ to be known. "
   ]
  },
  {
   "cell_type": "markdown",
   "metadata": {},
   "source": [
    "### 1. Data Preparation"
   ]
  },
  {
   "cell_type": "markdown",
   "metadata": {},
   "source": [
    "Load mixed image & metadata:"
   ]
  },
  {
   "cell_type": "code",
   "execution_count": null,
   "metadata": {},
   "outputs": [],
   "source": [
    "import os\n",
    "import json\n",
    "import tifffile as tiff\n",
    "\n",
    "DATA_DIR = '/group/jug/federico/microsim/sim_spectral_data/240715_v1'\n",
    "load_mip = False"
   ]
  },
  {
   "cell_type": "code",
   "execution_count": null,
   "metadata": {},
   "outputs": [],
   "source": [
    "mixed_opt_img = tiff.imread(\n",
    "    os.path.join(\n",
    "        DATA_DIR, \n",
    "        f\"{\"mips\" if load_mip else \"imgs\"}/optical_mixed{\"_mip\" if load_mip else \"\"}.tif\"\n",
    "    )\n",
    ")\n",
    "print(\"Loaded optical mixed image!\")"
   ]
  },
  {
   "cell_type": "code",
   "execution_count": null,
   "metadata": {},
   "outputs": [],
   "source": [
    "mixed_digital_img = tiff.imread(\n",
    "    os.path.join(\n",
    "        DATA_DIR, \n",
    "        f\"{\"mips\" if load_mip else \"imgs\"}/digital_mixed{\"_mip\" if load_mip else \"\"}.tif\"\n",
    "    )\n",
    ")\n",
    "print(\"Loaded digital mixed image!\")"
   ]
  },
  {
   "cell_type": "code",
   "execution_count": null,
   "metadata": {},
   "outputs": [],
   "source": [
    "with open(os.path.join(DATA_DIR, \"sim_coords.json\"), \"r\") as f:\n",
    "    coords_metadata = json.load(f)\n",
    "\n",
    "try:    \n",
    "    with open(os.path.join(DATA_DIR, \"sim_metadata.json\"), \"r\") as f:\n",
    "        sim_metadata = json.load(f)\n",
    "except FileNotFoundError as e:\n",
    "    print(\"Metadata file not found!\")\n",
    "    sim_metadata = None"
   ]
  },
  {
   "cell_type": "code",
   "execution_count": null,
   "metadata": {},
   "outputs": [],
   "source": [
    "# Load GT\n",
    "gt_img = tiff.imread(os.path.join(DATA_DIR, \"ground_truth_img.tif\"))"
   ]
  },
  {
   "cell_type": "code",
   "execution_count": null,
   "metadata": {},
   "outputs": [],
   "source": [
    "from utils import coarsen_img\n",
    "\n",
    "try:\n",
    "    downscaling = int(sim_metadata[\"downscale\"])\n",
    "except:\n",
    "    downscaling = 2\n",
    "gt_img_downsc = coarsen_img(gt_img, downscaling)"
   ]
  },
  {
   "cell_type": "code",
   "execution_count": null,
   "metadata": {},
   "outputs": [],
   "source": [
    "mixed_opt_img.shape, mixed_digital_img.shape, gt_img.shape, gt_img_downsc.shape, coords_metadata.keys(), sim_metadata.keys()"
   ]
  },
  {
   "cell_type": "code",
   "execution_count": null,
   "metadata": {},
   "outputs": [],
   "source": [
    "for k, v in sim_metadata.items():\n",
    "    print(f\"{k}: {v}\")"
   ]
  },
  {
   "cell_type": "markdown",
   "metadata": {},
   "source": [
    "Compute *PSNR* for the Digital Image w.r.t. the downscaled optical image"
   ]
  },
  {
   "cell_type": "code",
   "execution_count": null,
   "metadata": {},
   "outputs": [],
   "source": [
    "try:\n",
    "    downscaling = int(sim_metadata[\"downscale\"])\n",
    "except:\n",
    "    downscaling = 2\n",
    "mixed_opt_img_downsc = coarsen_img(mixed_opt_img, downscaling)"
   ]
  },
  {
   "cell_type": "code",
   "execution_count": null,
   "metadata": {},
   "outputs": [],
   "source": [
    "from utils.metrics import spectral_PSNR\n",
    "\n",
    "dig_psnr = spectral_PSNR(gt=mixed_opt_img_downsc, pred=mixed_digital_img)\n",
    "print(f\"PSNR digital wrt optical: {dig_psnr:.2f}\")"
   ]
  },
  {
   "cell_type": "markdown",
   "metadata": {},
   "source": [
    "Get reference spectra from `FPBase` using `microsim` API:"
   ]
  },
  {
   "cell_type": "code",
   "execution_count": null,
   "metadata": {},
   "outputs": [],
   "source": [
    "from microsim.schema.sample import Fluorophore\n",
    "\n",
    "def fetch_FPs(fp_names: list[str]) -> list[Fluorophore]:\n",
    "    return [Fluorophore.from_fpbase(name=fp_name) for fp_name in fp_names]\n",
    "\n",
    "fp1, fp2, fp3 = fetch_FPs(sim_metadata[\"fluorophores\"])"
   ]
  },
  {
   "cell_type": "code",
   "execution_count": null,
   "metadata": {},
   "outputs": [],
   "source": [
    "import xarray as xr\n",
    "\n",
    "fp1_em = xr.DataArray(fp1.emission_spectrum.intensity, coords=[fp1.emission_spectrum.wavelength.magnitude], dims=[\"w\"])\n",
    "fp2_em = xr.DataArray(fp2.emission_spectrum.intensity, coords=[fp2.emission_spectrum.wavelength.magnitude], dims=[\"w\"])\n",
    "fp3_em = xr.DataArray(fp3.emission_spectrum.intensity, coords=[fp3.emission_spectrum.wavelength.magnitude], dims=[\"w\"])"
   ]
  },
  {
   "cell_type": "code",
   "execution_count": null,
   "metadata": {},
   "outputs": [],
   "source": [
    "# Bin the emission spectra to the same wavelength range as the data\n",
    "em_bins = coords_metadata[\"w_bins\"]\n",
    "sbins = sorted(set([bins[0] for bins in em_bins] + [em_bins[-1][1]]))\n",
    "\n",
    "fp1_em_binned = fp1_em.groupby_bins(fp1_em[\"w\"], sbins).sum()\n",
    "fp2_em_binned = fp2_em.groupby_bins(fp2_em[\"w\"], sbins).sum()\n",
    "fp3_em_binned = fp3_em.groupby_bins(fp3_em[\"w\"], sbins).sum()"
   ]
  },
  {
   "cell_type": "code",
   "execution_count": null,
   "metadata": {},
   "outputs": [],
   "source": [
    "# Replace nan values with 0\n",
    "fp1_em_binned = fp1_em_binned.fillna(0)\n",
    "fp2_em_binned = fp2_em_binned.fillna(0)\n",
    "fp3_em_binned = fp3_em_binned.fillna(0)"
   ]
  },
  {
   "cell_type": "markdown",
   "metadata": {},
   "source": [
    "**OBSERVATION**\n",
    "The mixed image is a 16bit image (range: 0-6.5e4), whereas the intensity of fluorophores emission spectra ranges in 0-1 before the binning.\n",
    "\n",
    "Intuitively, intensity ranges should be the same. However does this really matter?\n",
    "\n",
    "In my understanding, the answer is NO. Let's see why:\n",
    "\n",
    "- Suppose the case of 0-1 range normalization. In that case, normalization is obtained by simply dividing each pixel's intensity by the maximum intensity in the image. In other terms we basically divide by a scalar. Therefore, supposing that we normalize in this way both the mixed image and the reference spectra, the linear system becomes:\n",
    "\n",
    "\\begin{equation}\n",
    "\\frac{1}{k_I}y = \\frac{1}{k_R}\\mathbf{R}c\n",
    "\\end{equation}\n",
    "\n",
    "where $k_I$ and $k_R$ are scalar. Therefore the solution of this system is the same up to some multiplicative constants.\n",
    "\n",
    "Therefore, we can normalize everything in the range 0-1 so that quantities are in the same scale."
   ]
  },
  {
   "cell_type": "code",
   "execution_count": null,
   "metadata": {},
   "outputs": [],
   "source": [
    "mixed_opt_img = (mixed_opt_img - mixed_opt_img.min()) / (mixed_opt_img.max() - mixed_opt_img.min())\n",
    "fp1_em_binned = (fp1_em_binned - fp1_em_binned.min()) / (fp1_em_binned.max()- fp1_em_binned.min())\n",
    "fp2_em_binned = (fp2_em_binned - fp2_em_binned.min()) / (fp2_em_binned.max()- fp2_em_binned.min())\n",
    "fp3_em_binned = (fp3_em_binned - fp3_em_binned.min()) / (fp3_em_binned.max()- fp3_em_binned.min())"
   ]
  },
  {
   "cell_type": "markdown",
   "metadata": {},
   "source": [
    "Prepare the matrix R of reference fluorophore intensities:"
   ]
  },
  {
   "cell_type": "code",
   "execution_count": null,
   "metadata": {},
   "outputs": [],
   "source": [
    "import numpy as np\n",
    "\n",
    "fp_ref_matrix = np.stack([fp1_em_binned.values, fp2_em_binned.values, fp3_em_binned.values], axis=1)"
   ]
  },
  {
   "cell_type": "markdown",
   "metadata": {},
   "source": [
    "### 2. Compute the LS solution"
   ]
  },
  {
   "cell_type": "code",
   "execution_count": null,
   "metadata": {},
   "outputs": [],
   "source": [
    "from methods.LeastSquares import lstsq_fit"
   ]
  },
  {
   "cell_type": "markdown",
   "metadata": {},
   "source": [
    "Solving for Optical Image:"
   ]
  },
  {
   "cell_type": "code",
   "execution_count": null,
   "metadata": {},
   "outputs": [],
   "source": [
    "fp_conc_opt_img = lstsq_fit(mixed_opt_img, fp_ref_matrix)"
   ]
  },
  {
   "cell_type": "markdown",
   "metadata": {},
   "source": [
    "Solving for Digital Image:"
   ]
  },
  {
   "cell_type": "code",
   "execution_count": null,
   "metadata": {},
   "outputs": [],
   "source": [
    "fp_conc_digital_img = lstsq_fit(mixed_digital_img, fp_ref_matrix)"
   ]
  },
  {
   "cell_type": "markdown",
   "metadata": {},
   "source": [
    "### 3. Visualizing results"
   ]
  },
  {
   "cell_type": "code",
   "execution_count": null,
   "metadata": {},
   "outputs": [],
   "source": [
    "import matplotlib.pyplot as plt\n",
    "\n",
    "fig, ax = plt.subplots(1, 3, figsize=(15, 5))\n",
    "fig.suptitle(\"MIP of FP concentrations computed from Optical (clean) image\", fontsize=16)\n",
    "if load_mip:\n",
    "    ax[0].imshow(fp_conc_opt_img[0, :, :])\n",
    "    ax[1].imshow(fp_conc_opt_img[1, :, :])\n",
    "    ax[2].imshow(fp_conc_opt_img[2, :, :])\n",
    "else:\n",
    "    ax[0].imshow(fp_conc_opt_img.max(axis=1)[0, :, :])\n",
    "    ax[1].imshow(fp_conc_opt_img.max(axis=1)[1, :, :])\n",
    "    ax[2].imshow(fp_conc_opt_img.max(axis=1)[2, :, :])\n",
    "\n",
    "\n",
    "fig, ax = plt.subplots(1, 3, figsize=(15, 5))\n",
    "fig.suptitle(\"MIP of FP concentrations computed from Digital (noisy) image\", fontsize=16)\n",
    "if load_mip:\n",
    "    ax[0].imshow(fp_conc_digital_img[0, :, :])\n",
    "    ax[1].imshow(fp_conc_digital_img[1, :, :])\n",
    "    ax[2].imshow(fp_conc_digital_img[2, :, :])\n",
    "else:\n",
    "    ax[0].imshow(fp_conc_digital_img.max(axis=1)[0, :, :])\n",
    "    ax[1].imshow(fp_conc_digital_img.max(axis=1)[1, :, :])\n",
    "    ax[2].imshow(fp_conc_digital_img.max(axis=1)[2, :, :])"
   ]
  },
  {
   "cell_type": "markdown",
   "metadata": {},
   "source": [
    "### 4. Evaluation"
   ]
  },
  {
   "cell_type": "markdown",
   "metadata": {},
   "source": [
    "Compute error with respect to ground truth.\n",
    "\n",
    "The ground truth is a `(F, Z, Y, X)` array which reports the number of fluorophores per pixel."
   ]
  },
  {
   "cell_type": "code",
   "execution_count": null,
   "metadata": {},
   "outputs": [],
   "source": [
    "# Visualize GT\n",
    "fig, ax = plt.subplots(1, 3, figsize=(15, 5))\n",
    "fig.suptitle(\"MIP of Ground Truth FP distribution (original)\", fontsize=16)\n",
    "ax[0].imshow(gt_img.max(axis=1)[0, :, :])\n",
    "ax[1].imshow(gt_img.max(axis=1)[1, :, :])\n",
    "ax[2].imshow(gt_img.max(axis=1)[2, :, :])\n",
    "\n",
    "\n",
    "fig, ax = plt.subplots(1, 3, figsize=(15, 5))\n",
    "fig.suptitle(\"MIP of Ground Truth FP distribution (downscaled)\", fontsize=16)\n",
    "ax[0].imshow(gt_img_downsc.max(axis=1)[0, :, :])\n",
    "ax[1].imshow(gt_img_downsc.max(axis=1)[1, :, :])\n",
    "ax[2].imshow(gt_img_downsc.max(axis=1)[2, :, :])"
   ]
  },
  {
   "cell_type": "markdown",
   "metadata": {},
   "source": [
    "We appy min-max normalization to both ground truth (#FP/pixel) and the LS result (FP concentratio/pixel) in order to get comparable arrays"
   ]
  },
  {
   "cell_type": "code",
   "execution_count": null,
   "metadata": {},
   "outputs": [],
   "source": [
    "from utils import channel_wise_norm, pixel_wise_sum_to_one\n",
    "\n",
    "norm_fp_conc_opt_img = channel_wise_norm(fp_conc_opt_img)\n",
    "norm_fp_conc_digital_img = channel_wise_norm(fp_conc_digital_img)\n",
    "norm_gt_img = channel_wise_norm(gt_img)\n",
    "norm_gt_img_downsc = channel_wise_norm(gt_img_downsc)\n",
    "\n",
    "# norm_fp_conc_opt_img = pixel_wise_sum_to_one(fp_conc_opt_img)\n",
    "# norm_fp_conc_digital_img = pixel_wise_sum_to_one(fp_conc_digital_img)\n",
    "# norm_gt_img = pixel_wise_sum_to_one(gt_img)\n",
    "# norm_gt_img_downsc = pixel_wise_sum_to_one(gt_img_downsc)\n"
   ]
  },
  {
   "cell_type": "markdown",
   "metadata": {},
   "source": [
    "Now, we compute and visualize the error:"
   ]
  },
  {
   "cell_type": "code",
   "execution_count": null,
   "metadata": {},
   "outputs": [],
   "source": [
    "from utils.metrics import pixel_wise_mse\n",
    "from mpl_toolkits.axes_grid1 import make_axes_locatable\n",
    "\n",
    "fig, ax = plt.subplots(3, 3, figsize=(15, 15))\n",
    "# fig.suptitle(\"Ground Truth FP distribution vs. Unmixed FP Concentrations (normalize in 0-1)\", fontsize=16)\n",
    "\n",
    "mse1 = pixel_wise_mse(norm_gt_img[0, ...], norm_fp_conc_opt_img[0, ...])\n",
    "ax[0,0].set_title(\"GT (flurophore distribution)\")\n",
    "im0 = ax[0,0].imshow(norm_gt_img.max(axis=1)[0, :, :])\n",
    "ax[0,1].set_title(\"Unmixing Result (flurophore distribution)\")\n",
    "im1 = ax[0,1].imshow(norm_fp_conc_opt_img.max(axis=1)[0, :, :])\n",
    "ax[0,2].set_title(\"Pixel-wise MSE (flurophore distribution)\")\n",
    "im2 = ax[0,2].imshow(mse1.max(axis=0), cmap=\"RdPu\")\n",
    "divider = make_axes_locatable(ax[0,2])\n",
    "cax = divider.append_axes(\"right\", size=\"5%\", pad=0.05)\n",
    "fig.colorbar(im2, cax=cax)\n",
    "ax[0,2].text(\n",
    "    0.66, 0.1, f'MSE: {mse1.mean():.2e}', transform=ax[0,2].transAxes,\n",
    "    fontsize=12, verticalalignment='center', bbox=dict(facecolor='white', alpha=0.5)\n",
    ")\n",
    "\n",
    "mse2 = pixel_wise_mse(norm_gt_img[1, ...], norm_fp_conc_opt_img[1, ...])\n",
    "im3 = ax[1,0].imshow(norm_gt_img.max(axis=1)[1, :, :])\n",
    "im4 = ax[1,1].imshow(norm_fp_conc_opt_img.max(axis=1)[1, :, :])\n",
    "im5 = ax[1,2].imshow(mse2.max(axis=0), cmap=\"RdPu\")\n",
    "divider = make_axes_locatable(ax[1,2])\n",
    "cax = divider.append_axes(\"right\", size=\"5%\", pad=0.05)\n",
    "fig.colorbar(im5, cax=cax)\n",
    "ax[1,2].text(\n",
    "    0.66, 0.1, f'MSE: {mse2.mean():.2e}', transform=ax[1,2].transAxes,\n",
    "    fontsize=12, verticalalignment='center', bbox=dict(facecolor='white', alpha=0.5)\n",
    ")\n",
    "\n",
    "mse3 = pixel_wise_mse(norm_gt_img[2, ...], norm_fp_conc_opt_img[2, ...])\n",
    "im6 = ax[2,0].imshow(norm_gt_img.max(axis=1)[2, :, :])\n",
    "im7 = ax[2,1].imshow(norm_fp_conc_opt_img.max(axis=1)[2, :, :])\n",
    "im8 = ax[2,2].imshow(mse3.max(axis=0), cmap=\"RdPu\")\n",
    "divider = make_axes_locatable(ax[2,2])\n",
    "cax = divider.append_axes(\"right\", size=\"5%\", pad=0.05)\n",
    "fig.colorbar(im8, cax=cax)\n",
    "ax[2,2].text(\n",
    "    0.66, 0.1, f'MSE: {mse3.mean():.2e}', transform=ax[2,2].transAxes,\n",
    "    fontsize=12, verticalalignment='center', bbox=dict(facecolor='white', alpha=0.5)\n",
    ")\n",
    "\n",
    "plt.tight_layout()\n",
    "\n",
    "# Quantititive results\n",
    "print(f\"Optical Image MSE: {mse1.mean():.2e}, {mse2.mean():.2e}, {mse3.mean():.2e}\")"
   ]
  },
  {
   "cell_type": "code",
   "execution_count": null,
   "metadata": {},
   "outputs": [],
   "source": [
    "fig, ax = plt.subplots(3, 3, figsize=(15, 15))\n",
    "# fig.suptitle(\"Ground Truth FP distribution vs. Unmixed FP Concentrations (normalize in 0-1)\", fontsize=16)\n",
    "\n",
    "mse1 = pixel_wise_mse(norm_gt_img_downsc[0, ...], norm_fp_conc_digital_img[0, ...])\n",
    "ax[0,0].set_title(\"GT (flurophore distribution)\")\n",
    "im0 = ax[0,0].imshow(norm_gt_img_downsc.max(axis=1)[0, :, :])\n",
    "ax[0,1].set_title(\"Unmixing Result (flurophore distribution)\")\n",
    "im1 = ax[0,1].imshow(norm_fp_conc_digital_img.max(axis=1)[0, :, :])\n",
    "ax[0,2].set_title(\"Pixel-wise MSE (flurophore distribution)\")\n",
    "im2 = ax[0,2].imshow(mse1.max(axis=0), cmap=\"RdPu\")\n",
    "divider = make_axes_locatable(ax[0,2])\n",
    "cax = divider.append_axes(\"right\", size=\"5%\", pad=0.05)\n",
    "fig.colorbar(im2, cax=cax)\n",
    "ax[0,2].text(\n",
    "    0.66, 0.1, f'MSE: {mse1.mean():.2e}', transform=ax[0,2].transAxes,\n",
    "    fontsize=12, verticalalignment='center', bbox=dict(facecolor='white', alpha=0.5)\n",
    ")\n",
    "\n",
    "mse2 = pixel_wise_mse(norm_gt_img_downsc[1, ...], norm_fp_conc_digital_img[1, ...])\n",
    "im3 = ax[1,0].imshow(norm_gt_img_downsc.max(axis=1)[1, :, :])\n",
    "im4 = ax[1,1].imshow(norm_fp_conc_digital_img.max(axis=1)[1, :, :])\n",
    "im5 = ax[1,2].imshow(mse2.max(axis=0), cmap=\"RdPu\")\n",
    "divider = make_axes_locatable(ax[1,2])\n",
    "cax = divider.append_axes(\"right\", size=\"5%\", pad=0.05)\n",
    "fig.colorbar(im5, cax=cax)\n",
    "ax[1,2].text(\n",
    "    0.66, 0.1, f'MSE: {mse2.mean():.2e}', transform=ax[1,2].transAxes,\n",
    "    fontsize=12, verticalalignment='center', bbox=dict(facecolor='white', alpha=0.5)\n",
    ")\n",
    "\n",
    "mse3 = pixel_wise_mse(norm_gt_img_downsc[2, ...], norm_fp_conc_digital_img[2, ...])\n",
    "im6 = ax[2,0].imshow(norm_gt_img_downsc.max(axis=1)[2, :, :])\n",
    "im7 = ax[2,1].imshow(norm_fp_conc_digital_img.max(axis=1)[2, :, :])\n",
    "im8 = ax[2,2].imshow(mse3.max(axis=0), cmap=\"RdPu\")\n",
    "divider = make_axes_locatable(ax[2,2])\n",
    "cax = divider.append_axes(\"right\", size=\"5%\", pad=0.05)\n",
    "fig.colorbar(im8, cax=cax)\n",
    "ax[2,2].text(\n",
    "    0.66, 0.1, f'MSE: {mse3.mean():.2e}', transform=ax[2,2].transAxes,\n",
    "    fontsize=12, verticalalignment='center', bbox=dict(facecolor='white', alpha=0.5)\n",
    ")\n",
    "\n",
    "plt.tight_layout()\n",
    "\n",
    "# Quantititive results\n",
    "print(f\"Digital Image MSE: {mse1.mean():.2e}, {mse2.mean():.2e}, {mse3.mean():.2e}\")"
   ]
  }
 ],
 "metadata": {
  "kernelspec": {
   "display_name": "linear_unmix",
   "language": "python",
   "name": "python3"
  },
  "language_info": {
   "codemirror_mode": {
    "name": "ipython",
    "version": 3
   },
   "file_extension": ".py",
   "mimetype": "text/x-python",
   "name": "python",
   "nbconvert_exporter": "python",
   "pygments_lexer": "ipython3",
   "version": "3.12.4"
  }
 },
 "nbformat": 4,
 "nbformat_minor": 2
}
