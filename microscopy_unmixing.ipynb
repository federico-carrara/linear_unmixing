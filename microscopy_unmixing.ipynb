{
 "cells": [
  {
   "cell_type": "markdown",
   "metadata": {},
   "source": [
    "# Linear Unmixing of Spectral Fluorescence Microscopy Data"
   ]
  },
  {
   "cell_type": "markdown",
   "metadata": {},
   "source": [
    "In this notebook we perform linear unmixing on spectral data from Fluorescence Microscopy.\n",
    "\n",
    "In this case, for a given pixel, we suppose to have a set of intensity measurements at different wavelengths, e.g., $y = [y(\\lambda_1),y(\\lambda_2),\\dots,y(\\lambda_n)]$, with $n=32$ for instance. For each one of these spectral bands $\\lambda_i$, with $i=1,\\dots,n$, and for each fluorophore $f$, with $f=1,\\dots,m$, we assume the reference spectra $R_f=[R_f(\\lambda_1), R_f(\\lambda_2), \\dots, R_f(\\lambda_n)]$ to be known. "
   ]
  },
  {
   "cell_type": "markdown",
   "metadata": {},
   "source": [
    "### 1. Data Preparation"
   ]
  },
  {
   "cell_type": "markdown",
   "metadata": {},
   "source": [
    "Load mixed image & metadata:"
   ]
  },
  {
   "cell_type": "code",
   "execution_count": null,
   "metadata": {},
   "outputs": [],
   "source": [
    "import os\n",
    "import json\n",
    "import tifffile as tiff\n",
    "import numpy as np\n",
    "\n",
    "DATA_DIR = '/group/jug/federico/microsim/sim_spectral_data/240717_v0'\n",
    "load_mip = False"
   ]
  },
  {
   "cell_type": "code",
   "execution_count": null,
   "metadata": {},
   "outputs": [],
   "source": [
    "mixed_opt_img = tiff.imread(\n",
    "    os.path.join(\n",
    "        DATA_DIR, \n",
    "        f\"{\"mips\" if load_mip else \"imgs\"}/optical_mixed{\"_mip\" if load_mip else \"\"}.tif\"\n",
    "    )\n",
    ")\n",
    "print(\"Loaded optical mixed image!\")"
   ]
  },
  {
   "cell_type": "code",
   "execution_count": null,
   "metadata": {},
   "outputs": [],
   "source": [
    "mixed_digital_img = tiff.imread(\n",
    "    os.path.join(\n",
    "        DATA_DIR, \n",
    "        f\"{\"mips\" if load_mip else \"imgs\"}/digital_mixed{\"_mip\" if load_mip else \"\"}.tif\"\n",
    "    )\n",
    ")\n",
    "print(\"Loaded digital mixed image!\")"
   ]
  },
  {
   "cell_type": "code",
   "execution_count": null,
   "metadata": {},
   "outputs": [],
   "source": [
    "with open(os.path.join(DATA_DIR, \"sim_coords.json\"), \"r\") as f:\n",
    "    coords_metadata = json.load(f)\n",
    "\n",
    "try:    \n",
    "    with open(os.path.join(DATA_DIR, \"sim_metadata.json\"), \"r\") as f:\n",
    "        sim_metadata = json.load(f)\n",
    "except FileNotFoundError as e:\n",
    "    print(\"Metadata file not found!\")\n",
    "    sim_metadata = None"
   ]
  },
  {
   "cell_type": "code",
   "execution_count": null,
   "metadata": {},
   "outputs": [],
   "source": [
    "# Load GT\n",
    "gt_img = tiff.imread(os.path.join(DATA_DIR, \"ground_truth_img.tif\"))"
   ]
  },
  {
   "cell_type": "code",
   "execution_count": null,
   "metadata": {},
   "outputs": [],
   "source": [
    "from utils import coarsen_img\n",
    "\n",
    "try:\n",
    "    downscaling = int(sim_metadata[\"downscale\"])\n",
    "except:\n",
    "    downscaling = 2\n",
    "gt_img_downsc = coarsen_img(gt_img, downscaling)"
   ]
  },
  {
   "cell_type": "code",
   "execution_count": null,
   "metadata": {},
   "outputs": [],
   "source": [
    "mixed_opt_img.shape, mixed_digital_img.shape, gt_img.shape, gt_img_downsc.shape, coords_metadata.keys(), sim_metadata.keys()"
   ]
  },
  {
   "cell_type": "code",
   "execution_count": null,
   "metadata": {},
   "outputs": [],
   "source": [
    "for k, v in sim_metadata.items():\n",
    "    print(f\"{k}: {v}\")"
   ]
  },
  {
   "cell_type": "markdown",
   "metadata": {},
   "source": [
    "Compute *PSNR* for the Digital Image w.r.t. the downscaled optical image"
   ]
  },
  {
   "cell_type": "code",
   "execution_count": null,
   "metadata": {},
   "outputs": [],
   "source": [
    "try:\n",
    "    downscaling = int(sim_metadata[\"downscale\"])\n",
    "except:\n",
    "    downscaling = 2\n",
    "mixed_opt_img_downsc = coarsen_img(mixed_opt_img, downscaling)"
   ]
  },
  {
   "cell_type": "code",
   "execution_count": null,
   "metadata": {},
   "outputs": [],
   "source": [
    "from utils.metrics import SpectralPSNR\n",
    "\n",
    "dig_psnr = SpectralPSNR(gt=mixed_opt_img_downsc, pred=mixed_digital_img, range_inv=True)\n",
    "print(f\"PSNR digital wrt optical: {dig_psnr:.2f}\")"
   ]
  },
  {
   "cell_type": "markdown",
   "metadata": {},
   "source": [
    "Get reference spectra from `FPBase` using `microsim` API:"
   ]
  },
  {
   "cell_type": "code",
   "execution_count": null,
   "metadata": {},
   "outputs": [],
   "source": [
    "from data.FPData import FPRefMatrix\n",
    "\n",
    "fp_ref_matrix = FPRefMatrix(sim_metadata[\"fluorophores\"], coords_metadata[\"w_bins\"])\n",
    "fp_ref_matrix = fp_ref_matrix.create()"
   ]
  },
  {
   "cell_type": "markdown",
   "metadata": {},
   "source": [
    "**OBSERVATION**\n",
    "The mixed image is a 16bit image (range: 0-6.5e4), whereas the intensity of fluorophores emission spectra ranges in 0-1 before the binning.\n",
    "\n",
    "Intuitively, intensity ranges should be the same. However does this really matter?\n",
    "\n",
    "In my understanding, the answer is NO. Let's see why:\n",
    "\n",
    "- Suppose the case of 0-1 range normalization. In that case, normalization is obtained by simply dividing each pixel's intensity by the maximum intensity in the image. In other terms we basically divide by a scalar. Therefore, supposing that we normalize in this way both the mixed image and the reference spectra, the linear system becomes:\n",
    "\n",
    "\\begin{equation}\n",
    "\\frac{1}{k_I}y = \\frac{1}{k_R}\\mathbf{R}c\n",
    "\\end{equation}\n",
    "\n",
    "where $k_I$ and $k_R$ are scalar. Therefore the solution of this system is the same up to some multiplicative constants.\n",
    "\n",
    "Therefore, we can normalize everything in the range 0-1 so that quantities are in the same scale."
   ]
  },
  {
   "cell_type": "markdown",
   "metadata": {},
   "source": [
    "### 2. Compute the LS solution"
   ]
  },
  {
   "cell_type": "code",
   "execution_count": null,
   "metadata": {},
   "outputs": [],
   "source": [
    "# Normalize image to unmix\n",
    "mixed_digital_img = (mixed_digital_img - mixed_digital_img.min()) / (mixed_digital_img.max() - mixed_digital_img.min())"
   ]
  },
  {
   "cell_type": "code",
   "execution_count": null,
   "metadata": {},
   "outputs": [],
   "source": [
    "from methods import LeastSquares\n",
    "\n",
    "# Solving LS for digital image\n",
    "ls = LeastSquares(mixed_digital_img, fp_ref_matrix)\n",
    "fp_conc_img_LS = ls.solve()"
   ]
  },
  {
   "cell_type": "code",
   "execution_count": null,
   "metadata": {},
   "outputs": [],
   "source": [
    "from methods import FCLSU\n",
    "\n",
    "fclsu = FCLSU(mixed_digital_img, fp_ref_matrix)\n",
    "fp_conc_img_FCLSU = fclsu.solve()"
   ]
  },
  {
   "cell_type": "markdown",
   "metadata": {},
   "source": [
    "### 3. Visualizing results"
   ]
  },
  {
   "cell_type": "code",
   "execution_count": null,
   "metadata": {},
   "outputs": [],
   "source": [
    "# Load GT (unmixed optical image)\n",
    "fluor1_gt_img = tiff.imread(os.path.join(DATA_DIR, \"imgs/optical_fluor1_gt.tif\"))\n",
    "fluor2_gt_img = tiff.imread(os.path.join(DATA_DIR, \"imgs/optical_fluor2_gt.tif\"))\n",
    "fluor3_gt_img = tiff.imread(os.path.join(DATA_DIR, \"imgs/optical_fluor3_gt.tif\"))\n",
    "\n",
    "# Add channel dimension\n",
    "fluor1_gt_img = fluor1_gt_img[np.newaxis, ...]\n",
    "fluor2_gt_img = fluor2_gt_img[np.newaxis, ...]\n",
    "fluor3_gt_img = fluor3_gt_img[np.newaxis, ...]"
   ]
  },
  {
   "cell_type": "code",
   "execution_count": null,
   "metadata": {},
   "outputs": [],
   "source": [
    "# Get downsclaed GT\n",
    "try:\n",
    "    downscaling = int(sim_metadata[\"downscale\"])\n",
    "except:\n",
    "    downscaling = 2\n",
    "fluor1_gt_img_downsc = coarsen_img(fluor1_gt_img, downscaling)\n",
    "fluor2_gt_img_downsc = coarsen_img(fluor2_gt_img, downscaling)\n",
    "fluor3_gt_img_downsc = coarsen_img(fluor3_gt_img, downscaling)"
   ]
  },
  {
   "cell_type": "code",
   "execution_count": null,
   "metadata": {},
   "outputs": [],
   "source": [
    "import matplotlib.pyplot as plt\n",
    "\n",
    "fig, ax = plt.subplots(1, 3, figsize=(15, 5))\n",
    "fig.suptitle(\"MIP of Optical (clean) image - Ground Truth\", fontsize=16)\n",
    "ax[0].imshow(fluor1_gt_img_downsc.max(axis=1)[0, ...])\n",
    "ax[1].imshow(fluor2_gt_img_downsc.max(axis=1)[0, ...])\n",
    "ax[2].imshow(fluor3_gt_img_downsc.max(axis=1)[0, ...])\n",
    "\n",
    "\n",
    "fig, ax = plt.subplots(1, 3, figsize=(15, 5))\n",
    "fig.suptitle(\"MIP of LS solutions from Digital (noisy) image\", fontsize=16)\n",
    "if load_mip:\n",
    "    ax[0].imshow(fp_conc_img_LS[0, :, :])\n",
    "    ax[1].imshow(fp_conc_img_LS[1, :, :])\n",
    "    ax[2].imshow(fp_conc_img_LS[2, :, :])\n",
    "else:\n",
    "    ax[0].imshow(fp_conc_img_LS.max(axis=1)[0, :, :])\n",
    "    ax[1].imshow(fp_conc_img_LS.max(axis=1)[1, :, :])\n",
    "    ax[2].imshow(fp_conc_img_LS.max(axis=1)[2, :, :])\n",
    "    \n",
    "# fig, ax = plt.subplots(1, 3, figsize=(15, 5))\n",
    "# fig.suptitle(\"MIP of FCLSU solutions from Digital (noisy) image\", fontsize=16)\n",
    "# if load_mip:\n",
    "#     ax[0].imshow(fp_conc_img_FCLSU[0, :, :])\n",
    "#     ax[1].imshow(fp_conc_img_FCLSU[1, :, :])\n",
    "#     ax[2].imshow(fp_conc_img_FCLSU[2, :, :])\n",
    "# else:\n",
    "#     ax[0].imshow(fp_conc_img_FCLSU.max(axis=1)[0, :, :])\n",
    "#     ax[1].imshow(fp_conc_img_FCLSU.max(axis=1)[1, :, :])\n",
    "#     ax[2].imshow(fp_conc_img_FCLSU.max(axis=1)[2, :, :])"
   ]
  },
  {
   "cell_type": "markdown",
   "metadata": {},
   "source": [
    "### 4. Evaluation"
   ]
  },
  {
   "cell_type": "markdown",
   "metadata": {},
   "source": [
    "Compute error with respect to ground truth images for each flurophore.\n",
    "\n",
    "The ground truth images are `(Z, Y, X)` arrays, which correspond to the clean image that we would get from one FP alone.\n",
    "\n",
    "Observe that the solution of the linear unmixing problem expresses **concentrations** of FPs, whereas the GT microscope images express values as intensities. <br>\n",
    "A way to compare these quantities is by using the **Range Invariant PSNR**, which is independent of the scale of the involved quantities.   "
   ]
  },
  {
   "cell_type": "markdown",
   "metadata": {},
   "source": [
    "Here, we compute the overall error for each FP as the Range Invariant PSNR and visualize it:"
   ]
  },
  {
   "cell_type": "code",
   "execution_count": null,
   "metadata": {},
   "outputs": [],
   "source": [
    "from utils.plots import plot_unmixed_vs_gt\n",
    "\n",
    "plot_unmixed_vs_gt(\n",
    "    gt_img=[fluor1_gt_img_downsc, fluor2_gt_img_downsc, fluor3_gt_img_downsc],\n",
    "    unmixed_img=fp_conc_img,\n",
    "    method=\"LS\",    \n",
    ")"
   ]
  }
 ],
 "metadata": {
  "kernelspec": {
   "display_name": "linear_unmix",
   "language": "python",
   "name": "python3"
  },
  "language_info": {
   "codemirror_mode": {
    "name": "ipython",
    "version": 3
   },
   "file_extension": ".py",
   "mimetype": "text/x-python",
   "name": "python",
   "nbconvert_exporter": "python",
   "pygments_lexer": "ipython3",
   "version": "3.12.4"
  }
 },
 "nbformat": 4,
 "nbformat_minor": 2
}
